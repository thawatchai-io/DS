{
 "cells": [
  {
   "cell_type": "markdown",
   "id": "aaaf7f2b-a923-4c81-bb62-d0804f64d502",
   "metadata": {},
   "source": [
    "# Data Science Tools and Ecosystem #"
   ]
  },
  {
   "cell_type": "markdown",
   "id": "f900155a-95b2-494a-a038-2fa5ead27718",
   "metadata": {},
   "source": [
    "In this notebook, Data Science Tools and Ecosystem are summarized."
   ]
  },
  {
   "cell_type": "markdown",
   "id": "2da55463-6ec3-4d33-be49-44536a43d084",
   "metadata": {
    "tags": []
   },
   "source": [
    "**Objectives:**\n",
    "* List popular languages for Data Science\n",
    "* List popular Data Science Tools\n",
    "* List common used library used by Data Science"
   ]
  },
  {
   "cell_type": "markdown",
   "id": "ca1fdc56-6e4d-44da-af86-e2bf9e53d46a",
   "metadata": {},
   "source": [
    "Some of the popular languages that Data Scientists use are:\n",
    "1. Python\n",
    "2. R\n",
    "3. SQL"
   ]
  },
  {
   "cell_type": "markdown",
   "id": "46581202-5e34-476a-bca4-d85eb4e58abb",
   "metadata": {
    "tags": []
   },
   "source": [
    "Some of the commonly used libraries used by Data Scientists include:\n",
    "1. Numpy\n",
    "2. SciPy\n",
    "3. Pandas"
   ]
  },
  {
   "cell_type": "markdown",
   "id": "f78bd143-c886-4ead-9b04-b817e7a3fb12",
   "metadata": {},
   "source": [
    "| Data Science Tools |\n",
    "|:------------------:|\n",
    "|R Studio|\n",
    "|Anaconda   |\n",
    "|Visual Studio Code  |"
   ]
  },
  {
   "cell_type": "markdown",
   "id": "42f26738-1a0c-4a44-b011-68c222687637",
   "metadata": {},
   "source": [
    "### Below are a few examples of evaluating arithmetic expressions in Python ###"
   ]
  },
  {
   "cell_type": "markdown",
   "id": "aa04a527-643c-4c13-a335-533f5fcd39db",
   "metadata": {},
   "source": [
    "This a simple arithmetic expression to mutiply then add integers"
   ]
  },
  {
   "cell_type": "code",
   "execution_count": 2,
   "id": "fef4096e-48e4-4682-98a8-5f1b720a6e6d",
   "metadata": {
    "tags": []
   },
   "outputs": [
    {
     "data": {
      "text/plain": [
       "17"
      ]
     },
     "execution_count": 2,
     "metadata": {},
     "output_type": "execute_result"
    }
   ],
   "source": [
    "(3*4)+5"
   ]
  },
  {
   "cell_type": "markdown",
   "id": "c289c98e-620e-48da-8018-cbc8cd7abc57",
   "metadata": {},
   "source": [
    "This will convert 200 minutes to hours by diving by 60"
   ]
  },
  {
   "cell_type": "code",
   "execution_count": 3,
   "id": "151d1e76-4c2c-4449-9688-5751394e3ec5",
   "metadata": {
    "tags": []
   },
   "outputs": [
    {
     "data": {
      "text/plain": [
       "3.3333333333333335"
      ]
     },
     "execution_count": 3,
     "metadata": {},
     "output_type": "execute_result"
    }
   ],
   "source": [
    "200/60"
   ]
  },
  {
   "cell_type": "markdown",
   "id": "680c7b03-e8e7-467e-883e-9938589b1bf2",
   "metadata": {},
   "source": [
    "## Author ##\n",
    "Thawatchai"
   ]
  },
  {
   "cell_type": "code",
   "execution_count": null,
   "id": "920a77de-1390-4d61-92d2-77a1f9d6fbce",
   "metadata": {},
   "outputs": [],
   "source": []
  }
 ],
 "metadata": {
  "kernelspec": {
   "display_name": "Python",
   "language": "python",
   "name": "conda-env-python-py"
  },
  "language_info": {
   "codemirror_mode": {
    "name": "ipython",
    "version": 3
   },
   "file_extension": ".py",
   "mimetype": "text/x-python",
   "name": "python",
   "nbconvert_exporter": "python",
   "pygments_lexer": "ipython3",
   "version": "3.7.12"
  }
 },
 "nbformat": 4,
 "nbformat_minor": 5
}
